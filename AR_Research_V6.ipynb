{
 "cells": [
  {
   "cell_type": "markdown",
   "metadata": {},
   "source": [
    "# 导入函数库"
   ]
  },
  {
   "cell_type": "code",
   "execution_count": 1,
   "metadata": {},
   "outputs": [],
   "source": [
    "import numpy as np\n",
    "import pandas as pd\n",
    "from scipy import stats\n",
    "\n",
    "\n",
    "import statsmodels.tsa.stattools as ts\n",
    "\n",
    "\n",
    "import statsmodels.formula.api as smf\n",
    "import statsmodels.tsa.api as smt\n",
    "import statsmodels.api as sm\n",
    "import scipy.stats as scs\n",
    "import statsmodels.stats as sms\n",
    "\n",
    "import matplotlib.pyplot as plt\n",
    "import matplotlib as mpl\n",
    "\n",
    "\n",
    "\n",
    "# 引入Kalman函数库\n",
    "from pykalman import KalmanFilter\n",
    "\n",
    "# 引入纯随机序列检测，只有是非纯随机序列，才能进行检测\n",
    "from statsmodels.stats.diagnostic import acorr_ljungbox\n",
    "\n",
    "# 引入时序分析模型进行模型匹配\n",
    "from statsmodels.tsa.arima_model import ARMA"
   ]
  },
  {
   "cell_type": "markdown",
   "metadata": {},
   "source": [
    "# 定义自定义函数"
   ]
  },
  {
   "cell_type": "code",
   "execution_count": 2,
   "metadata": {},
   "outputs": [],
   "source": [
    "# S1为自变量，S2为因变量\n",
    "def kalman_beta(S1,S2):\n",
    "    \n",
    "    # 观察矩阵\n",
    "    # 注意：\n",
    "    # 1、观察到的是sec1数据，sec1是自变量x，sec2是因变量y\n",
    "    # 2、需要使用add_constant来模拟alpha\n",
    "    # 3、需要使用np.newaxis来增加维度\n",
    "    obs_mat = sm.add_constant(S1.values, prepend=False)[:, np.newaxis]\n",
    "\n",
    "    kf = KalmanFilter(n_dim_obs=1, n_dim_state=2, # y is 1-dimensional, (alpha, beta) is 2-dimensional\n",
    "                  initial_state_mean=np.ones(2),\n",
    "                  initial_state_covariance=np.ones((2, 2)),\n",
    "                  transition_matrices=np.eye(2),  # 不发生变化，都是单位矩阵\n",
    "                  observation_matrices=obs_mat,   # 观察矩阵\n",
    "                  observation_covariance=10**2,\n",
    "                  transition_covariance=0.01**2 * np.eye(2))\n",
    "    \n",
    "    # 相当于使用sec2来进行训练，模拟出beta、alpha\n",
    "    state_means, state_covs = kf.filter(S2[:, np.newaxis])\n",
    "    \n",
    "    # 第一个参数为beta，第二个参数为alpha\n",
    "    return state_means[-1]\n",
    "\n",
    "\n",
    "\n",
    "# 进行画图，判断AR、MA的延迟阶数\n",
    "\n",
    "def tsplot(y, lags=None, figsize=(15, 10), style='bmh'):\n",
    "    if not isinstance(y, pd.Series):\n",
    "        y = pd.Series(y)\n",
    "    with plt.style.context(style):    \n",
    "        fig = plt.figure(figsize=figsize)\n",
    "        #mpl.rcParams['font.family'] = 'Ubuntu Mono'\n",
    "        layout = (3, 2)\n",
    "        ts_ax = plt.subplot2grid(layout, (0, 0), colspan=2)\n",
    "        acf_ax = plt.subplot2grid(layout, (1, 0))\n",
    "        pacf_ax = plt.subplot2grid(layout, (1, 1))\n",
    "        qq_ax = plt.subplot2grid(layout, (2, 0))\n",
    "        pp_ax = plt.subplot2grid(layout, (2, 1))\n",
    "        \n",
    "        y.plot(ax=ts_ax)\n",
    "        ts_ax.set_title('Time Series Analysis Plots')\n",
    "        smt.graphics.plot_acf(y, lags=lags, ax=acf_ax, alpha=0.05)\n",
    "        smt.graphics.plot_pacf(y, lags=lags, ax=pacf_ax, alpha=0.05)\n",
    "        sm.qqplot(y, line='s', ax=qq_ax)\n",
    "        qq_ax.set_title('QQ Plot')        \n",
    "        scs.probplot(y, sparams=(y.mean(), y.std()), plot=pp_ax)\n",
    "\n",
    "        plt.tight_layout()\n",
    "    return\n",
    "\n",
    "\n",
    "# 函数名：Cadf_test\n",
    "# 输入参数：\n",
    "# 1、res_pd:pandas数组，index为日期，列名为“res”\n",
    "# 输出参数：\n",
    "# P value：返回test的p值，用于后续监测\n",
    "# null hypothesis of the Augmented Dickey-Fuller is that there is a unit root\n",
    "\n",
    "def Cadf_test(res):\n",
    "\n",
    "    # 使用adf计算adf的值\n",
    "    cadf = ts.adfuller(res)\n",
    "    \n",
    "    return cadf[1]\n",
    "\n",
    "\n",
    "# 重要：只有时间序列不是一个白噪声（纯随机序列）的时候，该序列才可做分析\n",
    "# 函数名：test_stochastic\n",
    "# 输入参数：\n",
    "# 1、res_pd:pandas数组，index为日期，列名为“res”\n",
    "# 输出参数：\n",
    "# P value：返回test的p值，用于后续监测\n",
    "# Ljung-Box test for no autocorrelation\n",
    "# 纯随机性检验,p值小于5%,序列为非白噪声\n",
    "# H0: 原本的数据都是纯随机序列\n",
    "# 用于检验某个时间段内的一系列观测值是不是随机的独立观测值\n",
    "# 如果观测值并非彼此独立，一个观测值可能会在 i 个时间单位后与另一个观测值相关，形成一种称为自相关的关系\n",
    "# 自相关可以削减基于时间的预测模型（例如时间序列图）的准确性，并导致数据的错误解释。\n",
    "\n",
    "def test_stochastic(ts):\n",
    "    p_value = acorr_ljungbox(ts)[1] #lags可自定义\n",
    "    return p_value[0]"
   ]
  },
  {
   "cell_type": "markdown",
   "metadata": {},
   "source": [
    "# 策略研究\n",
    "\n",
    "策略：求出差分后的残差$\\epsilon$\n",
    "\n",
    "1. 确定kalman方程的beta、alpha\n",
    "2. 确定相应的$\\epsilon$\n",
    "3. 求出$\\epsilon$的差分值\n",
    "4. 求出差分值的平均值、方差值\n",
    "5. 价格推导公式如下：\n",
    "\n",
    "t-1 时刻：$Q_{t-1} = \\beta * P_{t-1} + \\alpha + \\epsilon_{t-1}$\n",
    "\n",
    "t时刻：$Q_{t} = \\beta * P_{t} + \\alpha + \\epsilon_{t}$\n",
    "\n",
    "做处理，将t时刻的等式减去t-1时刻的等式，汇总后\n",
    "\n",
    "$Q_{t} - Q_{t-1} = \\beta * P_{t} + \\alpha + \\epsilon_{t} - \\beta * P_{t-1} - \\alpha - \\epsilon_{t-1}$\n",
    "\n",
    "\n",
    "$\\epsilon_{t} - \\epsilon_{t-1} = (Q_{t} - Q_{t-1}) - \\beta * (P_{t} - P_{t-1})$\n",
    "\n",
    "$Q_{t}$是因变量，$P_{t}$是自变量，t-1时刻的值为已观察到的值，$（\\epsilon_{t} - \\epsilon_{t-1}）$是随机变量，均值方差根据历史数据求出，根据上式可以得出：\n",
    "\n",
    "$Q_{t} = (\\epsilon_{t} - \\epsilon_{t-1}) + \\beta * (P_{t} - P_{t-1}) + Q_{t-1}$\n",
    "\n",
    "\n",
    "结论：\n",
    "\n",
    "$Q_{t}$是推导出来的值，$\\epsilon_{t} - \\epsilon_{t-1}$是随机变量（0均值），$\\beta$是历史推导值，其他是观察值，所以如果观察到$Q_{t}$价格偏差较大，就可以推导出应该的价格"
   ]
  },
  {
   "cell_type": "markdown",
   "metadata": {},
   "source": [
    "# 策略推导\n",
    "\n",
    "策略：求出差分后的残差$\\epsilon$\n",
    "\n",
    "1. 确定kalman方程的beta、alpha\n",
    "2. 确定相应的$\\epsilon$\n",
    "3. 求出$\\epsilon$的差分值\n",
    "4. 求出差分值的平均值、方差值\n",
    "5. 价格推导公式如下：\n",
    "\n",
    "t-1 时刻：$Q_{t-1} = \\beta * P_{t-1} + \\alpha + \\epsilon_{t-1}$\n",
    "\n",
    "t时刻：$Q_{t} = \\beta * P_{t} + \\alpha + \\epsilon_{t}$\n",
    "\n",
    "做处理，将t时刻的等式减去t-1时刻的等式，汇总后\n",
    "\n",
    "$Q_{t} - Q_{t-1} = \\beta * P_{t} + \\alpha + \\epsilon_{t} - \\beta * P_{t-1} - \\alpha - \\epsilon_{t-1}$\n",
    "\n",
    "\n",
    "$\\epsilon_{t} - \\epsilon_{t-1} = (Q_{t} - Q_{t-1}) - \\beta * (P_{t} - P_{t-1})$\n",
    "\n"
   ]
  },
  {
   "cell_type": "markdown",
   "metadata": {},
   "source": [
    "# 策略实现\n",
    "\n",
    "\n",
    "如果$\\epsilon_{t} - \\epsilon_{t-1}$位于底部区间，则意味着\n",
    "\n",
    "$(Q_{t+1} - Q_{t}) - \\beta * (P_{t+1} - P_{t})$ 上升\n",
    "\n",
    "意味着：\n",
    "$(Q_{t+1} - Q_{t})$上升，或者$\\beta * (P_{t+1} - P_{t})$下降\n",
    "\n",
    "对于时刻：\n",
    "- t-1时刻：仅作为参考运算\n",
    "- t  时刻：开始计算$\\epsilon_{t} - \\epsilon_{t-1}$，如果正常范围，不做处理，如果超出范围则开始监测，因为$\\epsilon_{t} - \\epsilon_{t-1}$会回归到0\n",
    "- t+1时刻：正处在回归过程中，回归到途径，要么$(Q_{t+1} - Q_{t})$上升，或者$\\beta * (P_{t+1} - P_{t})$下降\n",
    "\n",
    "按照以上说明，可以推导出：\n",
    "\n",
    "1. 如果下式未变化未变化：\n",
    "$$\\frac{P_{t+1} - P_{t}}{P_{t} - P_{t-1}}>= 1$$ \n",
    "2. 则可以确定下式会上升：\n",
    "$$\\frac{Q_{t+1} - Q_{t}}{Q_{t} - Q_{t-1}}$$\n"
   ]
  },
  {
   "cell_type": "markdown",
   "metadata": {},
   "source": [
    "# 买卖信号\n",
    "\n",
    "买入信号，同时满足：\n",
    "$$\\epsilon_{t+1} - \\epsilon_{t} 处于区间外低点$$\n",
    "\n",
    "$$\\frac{P_{t+1} - P_{t}}{P_{t} - P_{t-1}}>1 未变小$$ \n",
    "\n",
    "$$\\frac{Q_{t+1} - Q_{t}}{Q_{t+1} - Q_{t}}<1 未变大$$\n",
    "\n",
    "\n",
    "卖出信号：\n",
    "$$\\epsilon_{t+1} - \\epsilon_{t} 处于高位$$\n",
    "\n",
    "\n"
   ]
  },
  {
   "cell_type": "code",
   "execution_count": 3,
   "metadata": {},
   "outputs": [],
   "source": [
    "# 生成持仓序列\n",
    "# 输入：\n",
    "# buy_list:[0,....,1,0,...]\n",
    "# sell_list:[0,...-1,0,-1....]\n",
    "# 相互融合后生成持仓序列：[0,0,....1,0,1,....]\n",
    "\n",
    "def position_generate(buy_list,sell_list):\n",
    "    # 生成混合序列\n",
    "    combine_list = np.array(buy_list) + np.array(sell_list)\n",
    "\n",
    "\n",
    "    # 生成状态序列\n",
    "    state_list = []\n",
    "    # 1、初始化第一个状态，如果是0则设置为-1，如果是-1则保持-1，如果是1则保持1\n",
    "    if combine_list[0] == 0:\n",
    "        state_list.append(-1)\n",
    "    else:\n",
    "        state_list.append(combine_list[0])\n",
    "\n",
    "    # 2、开始设置后续的状态，如果是0则设置为前一个状态，如果当前状态与前一个状态不同，则设置为当前状态\n",
    "    for state in combine_list[1:]:\n",
    "        if state == 0:\n",
    "            state_list.append(state_list[-1])\n",
    "        else:\n",
    "            state_list.append(state)\n",
    "\n",
    "    # 进行异或操作\n",
    "    xor_list = []\n",
    "    for i in range(len(state_list)):\n",
    "        if state_list[i] == np.array(pd.Series(state_list).shift(1).fillna(-1))[i]:\n",
    "            xor_list.append(0)\n",
    "        else:\n",
    "            xor_list.append(1)\n",
    "\n",
    "    # 生成新的买入、卖出数组\n",
    "    buy_point_new = np.array(buy_list) * xor_list\n",
    "    sell_point_new = np.array(sell_list) * xor_list\n",
    "\n",
    "    # 生成新的混合数组\n",
    "    combine_list_new = buy_point_new + sell_point_new\n",
    "\n",
    "    return np.cumsum(combine_list_new)"
   ]
  },
  {
   "cell_type": "markdown",
   "metadata": {},
   "source": [
    "## 回测数列处理\n",
    "\n",
    "1. 确定买入点、卖出点数列\n",
    "2. 整理数列，确定三个状态：\n",
    "    - 0：与前面状态一致的状态，可以称为稳定状态\n",
    "    - 1：买入状态：将现在的状态改变为买入状态\n",
    "    - -1：卖出状态，将现在的状态改变为卖出状态\n",
    "3. 确定一个状态变更列表\n",
    "4. 对状态变更列表进行处理，处理原则：一开始设置为卖出状态；若为0，则与前状态一致；若为1，则变更为买入状态；若为-1 则变更为卖状态；如果状态已经是当前要变更的状态，则不作处理\n",
    "5. 对状态变更列表进行差分，异或处理，确定状态跳变的时间点\n",
    "6. 以状态跳变时间点的列表与买入点、卖出点数列进行并运算，得出新的买入点、卖出点数列\n",
    "7. 以新的买入点、卖出点数列作为新的序列\n",
    "8. 已新的序列（三状态：0，+1，-1）计算cucum()，计算仓位结果\n"
   ]
  },
  {
   "cell_type": "markdown",
   "metadata": {},
   "source": [
    "示例：\n",
    "\n",
    "|类别|第1天|第2天|第3天|第4天|第5天|第6天|第7天|第8天|第9天|第10天|\n",
    "|:--:|:--:|:--:|:--:|:--:|:--:|:--:|:--:|:--:|:--:|:--:|:--:|\n",
    "|1.买入点|0|1|0|0|0|0|0|1|0|0|\n",
    "|2.卖出点|0|0|0|-1|0|0|-1|0|-1|0|\n",
    "|3.混合序列|0|1|0|-1|0|0|-1|1|-1|0|\n",
    "|4.状态序列|-1|1|1|-1|-1|-1|-1|1|-1|-1|\n",
    "|5.状态差分|-1|-1|1|1|-1|-1|-1|-1|1|-1|\n",
    "|6.状态异或|0|1|0|1|0|0|0|1|1|0|\n",
    "|7.买入并|0|1|0|0|0|0|0|1|0|0|\n",
    "|8.卖出并|0|0|0|-1|0|0|0|0|-1|0|\n",
    "|9.新混合|0|1|0|-1|0|0|0|1|-1|0|\n",
    "|10.累加运算|0|1|1|0|0|0|0|1|0|0|\n",
    "\n",
    "最终使用10#序列与收益率相乘，得到最后收益率曲线，最终来画图"
   ]
  },
  {
   "cell_type": "markdown",
   "metadata": {},
   "source": [
    "# 开始验证"
   ]
  },
  {
   "cell_type": "code",
   "execution_count": 106,
   "metadata": {},
   "outputs": [],
   "source": [
    "# 求出两只股票\n",
    "end_date = '2018-9-30'\n",
    "ncount = 500\n",
    "\n",
    "\n",
    "\n",
    "sec1 = '601939.XSHG'\n",
    "sec2 = '601288.XSHG'\n",
    "\n",
    "sec1 = '600111.XSHG'\n",
    "\n",
    "sec2 = '603799.XSHG'\n",
    "\n",
    "\n",
    "\n",
    "# # 美的集团\n",
    "# sec1 = '000333.XSHE'\n",
    "\n",
    "# # 格力电器\n",
    "# sec2 = '000651.XSHE'\n",
    "\n",
    "# P，自变量\n",
    "S1 = get_price(sec1, count =  ncount, end_date= end_date, frequency='1d', fields='close',fq = \"pre\")['close']\n",
    "\n",
    "# Q，因变量\n",
    "S2 = get_price(sec2, count =  ncount, end_date= end_date, frequency='1d', fields='close',fq = \"pre\")['close']\n",
    "\n",
    "\n",
    "# 计算alpha、beta\n",
    "# 按照定义：S1为自变量，S2为因变量\n",
    "beta_kf = kalman_beta(S1,S2)\n",
    "beta = kalman_beta(S1,S2)[0]\n",
    "alpha = kalman_beta(S1,S2)[1]"
   ]
  },
  {
   "cell_type": "code",
   "execution_count": 107,
   "metadata": {},
   "outputs": [],
   "source": [
    "# 求出基本参数\n",
    "res = S2 - np.dot(sm.add_constant(S1, prepend=False), beta_kf)\n",
    "\n",
    "res_diff = res - res.shift(1)\n",
    "res_diff = res_diff.fillna(0)\n",
    "\n",
    "\n",
    "std_deviation = np.std(res_diff)\n",
    "mean = np.mean(res_diff)"
   ]
  },
  {
   "cell_type": "code",
   "execution_count": 108,
   "metadata": {},
   "outputs": [
    {
     "data": {
      "text/plain": [
       "1.3855939907729415e-21"
      ]
     },
     "execution_count": 108,
     "metadata": {},
     "output_type": "execute_result"
    }
   ],
   "source": [
    "# 基本参数验证\n",
    "Cadf_test(res_diff)"
   ]
  },
  {
   "cell_type": "markdown",
   "metadata": {},
   "source": [
    "H0：there is unit root\n",
    "\n",
    "因为概率低于0.05，所以可以推翻H0\n",
    "\n",
    "结论：不存在Unit Root，是平稳序列"
   ]
  },
  {
   "cell_type": "code",
   "execution_count": 109,
   "metadata": {},
   "outputs": [
    {
     "data": {
      "text/plain": [
       "0.97497707105446263"
      ]
     },
     "execution_count": 109,
     "metadata": {},
     "output_type": "execute_result"
    }
   ],
   "source": [
    "# 基本参数验证\n",
    "test_stochastic(res_diff)"
   ]
  },
  {
   "cell_type": "markdown",
   "metadata": {},
   "source": [
    "H0：原本的数据都是纯随机序列\n",
    "\n",
    "因为概率低于0.05，所以可以推翻H0\n",
    "\n",
    "结论就是序列是非纯随机序列"
   ]
  },
  {
   "cell_type": "code",
   "execution_count": 110,
   "metadata": {},
   "outputs": [
    {
     "data": {
      "text/plain": [
       "5.2836717671881557"
      ]
     },
     "execution_count": 110,
     "metadata": {},
     "output_type": "execute_result"
    }
   ],
   "source": [
    "beta"
   ]
  },
  {
   "cell_type": "code",
   "execution_count": 111,
   "metadata": {},
   "outputs": [
    {
     "data": {
      "text/plain": [
       "2.3794052166248156"
      ]
     },
     "execution_count": 111,
     "metadata": {},
     "output_type": "execute_result"
    }
   ],
   "source": [
    "alpha"
   ]
  },
  {
   "cell_type": "code",
   "execution_count": 112,
   "metadata": {},
   "outputs": [
    {
     "data": {
      "text/plain": [
       "2.134663336856111"
      ]
     },
     "execution_count": 112,
     "metadata": {},
     "output_type": "execute_result"
    }
   ],
   "source": [
    "std_deviation"
   ]
  },
  {
   "cell_type": "code",
   "execution_count": 113,
   "metadata": {},
   "outputs": [],
   "source": [
    "# 开始进行验证\n",
    "\n",
    "start_date = '2018-10-1'\n",
    "end_date = '2019-2-28'\n",
    "\n",
    "# 美的集团,P\n",
    "S1_validation = get_price(sec1, start_date =  start_date, end_date= end_date, frequency='1d', fields='close',fq = \"pre\")['close']\n",
    "\n",
    "# 格力电器,Q\n",
    "S2_validation = get_price(sec2, start_date =  start_date, end_date= end_date, frequency='1d', fields='close',fq = \"pre\")['close']\n",
    "\n",
    "P_index = get_price('000300.XSHG', start_date =  start_date, end_date= end_date, frequency='1d', fields='close',fq = \"pre\")['close']\n"
   ]
  },
  {
   "cell_type": "markdown",
   "metadata": {},
   "source": [
    "# 策略实现\n",
    "\n",
    "step1：\n",
    "\n",
    "确定$Q_{t+1}$，$Q_{t}$，$Q_{t-1}$，$P_{t}$，$P_{t-1}$，$P_{t+1}$\n",
    "\n",
    "step2：\n",
    "\n",
    "在t-1时刻，观察$\\epsilon_{t-1}$\n",
    "\n",
    "\n",
    "step3：\n",
    "\n",
    "\n",
    "在t时刻，确定$\\epsilon_{t} - \\epsilon_{t-1}$ 是否达到下界\n",
    "\n",
    "如果达到下界则确定操作变量，表示可以进行买入交易\n",
    "\n",
    "\n",
    "step4：\n",
    "\n",
    "观察$Q_{t+1}$，$P_{t+1}$\n",
    "\n",
    "判断：\n",
    "1. $$\\frac{P_{t+1} - P_{t}}{P_{t} - P_{t-1}}>1 未变小$$ \n",
    "\n",
    "\n",
    "\n",
    "2. $$\\frac{Q_{t+1} - Q_{t}}{Q_{t} - Q_{t-1}}<1 未变大$$\n",
    "\n",
    "同时满足则买入\n",
    "\n",
    "step5：\n",
    "\n",
    "当前为t+1时刻，同时观测，如果当前观察到$\\epsilon_{t+1} -\\epsilon_{t}$，则卖出\n",
    "\n",
    "**说明：模拟为了方便，均采用收盘价作为模拟，在实际模拟中可以采用当前分钟级数据与前两天的日线数据对比**"
   ]
  },
  {
   "cell_type": "code",
   "execution_count": 114,
   "metadata": {},
   "outputs": [],
   "source": [
    "# 生成买入信号序列\n",
    "\n",
    "buy_point = []\n",
    "\n",
    "# t-1时刻、t时刻buy_point为0\n",
    "buy_point.append(0)\n",
    "buy_point.append(0)\n",
    "\n",
    "# 当前在t+1时刻，需要回溯到t-1时刻\n",
    "for t in range(2,S1_validation.shape[0]):\n",
    "    # step1：确定时间点价格\n",
    "    # 确定3个时间点的价格\n",
    "    P0 = S1_validation[t-2]\n",
    "    P1 = S1_validation[t-1]\n",
    "    P2 = S1_validation[t]\n",
    "    \n",
    "    Q0 = S2_validation[t-2]\n",
    "    Q1 = S2_validation[t-1]\n",
    "    Q2 = S2_validation[t]    \n",
    "\n",
    "    # 设置买入信号\n",
    "    if_buy = False\n",
    "    \n",
    "    # step2：计算t-1时刻残差，t时刻残差\n",
    "    res_0 = Q0 - beta * P0 - alpha\n",
    "    res_1 = Q1 - beta * P1 - alpha\n",
    "\n",
    "    # step3：看计算的t时刻残差是否达到标准\n",
    "    res_diff_1 = res_1 - res_0\n",
    "    \n",
    "    if res_diff_1 < -std_deviation*0.5:\n",
    "        # 设置买入信号为真\n",
    "        if_buy = True\n",
    "\n",
    "    # step4：观察价格是否变化\n",
    "    if if_buy:\n",
    "        # P价格变化比例\n",
    "        Delta_P = (P2 - P1)/(P1 - P0)\n",
    "        # Q价格变化比例\n",
    "        Delta_Q = (Q2 - Q1)/(Q1 - Q0)\n",
    "        \n",
    "        if (Delta_P >= 1) and (Delta_Q <= 1):\n",
    "            buy_point.append(1)\n",
    "        else:\n",
    "            buy_point.append(0)\n",
    "\n",
    "    else:\n",
    "        #不能进行买入\n",
    "        buy_point.append(0)"
   ]
  },
  {
   "cell_type": "code",
   "execution_count": 115,
   "metadata": {},
   "outputs": [
    {
     "data": {
      "text/plain": [
       "1"
      ]
     },
     "execution_count": 115,
     "metadata": {},
     "output_type": "execute_result"
    }
   ],
   "source": [
    "# 买入点总数\n",
    "sum(buy_point)"
   ]
  },
  {
   "cell_type": "code",
   "execution_count": 116,
   "metadata": {},
   "outputs": [],
   "source": [
    "# 生成卖出信号序列\n",
    "sell_point = []\n",
    "# 当前为t时刻，与买入信号不同\n",
    "# 只需要往前追溯1天\n",
    "sell_point.append(0)\n",
    "\n",
    "# 当前在t+1时刻，需要回溯到t-1时刻\n",
    "for t in range(1,S1_validation.shape[0]):\n",
    "    \n",
    "    # step1：确定时间点价格\n",
    "    # 确定2个时间点的价格\n",
    "    P0 = S1_validation[t-1]\n",
    "    P1 = S1_validation[t]\n",
    "    \n",
    "    Q0 = S2_validation[t-1]\n",
    "    Q1 = S2_validation[t]  \n",
    "    \n",
    "    # step2：计算t-1时刻残差，t时刻残差\n",
    "    res_0 = Q0 - beta * P0 - alpha\n",
    "    res_1 = Q1 - beta * P1 - alpha\n",
    "\n",
    "    # step3：看计算的t时刻残差是否达到标准\n",
    "    res_diff_1 = res_1 - res_0\n",
    "    \n",
    "    if res_diff_1 > 0:   #可选参数std_deviation\n",
    "        # 设置卖出信号\n",
    "        sell_point.append(-1)\n",
    "    else:\n",
    "        sell_point.append(0)\n",
    "\n"
   ]
  },
  {
   "cell_type": "code",
   "execution_count": 117,
   "metadata": {},
   "outputs": [
    {
     "data": {
      "text/plain": [
       "-48"
      ]
     },
     "execution_count": 117,
     "metadata": {},
     "output_type": "execute_result"
    }
   ],
   "source": [
    "# 卖出点总数\n",
    "sum(sell_point)"
   ]
  },
  {
   "cell_type": "code",
   "execution_count": 118,
   "metadata": {},
   "outputs": [],
   "source": [
    "# 生成持仓序列\n",
    "hold_list = position_generate(buy_point,sell_point)"
   ]
  },
  {
   "cell_type": "code",
   "execution_count": 119,
   "metadata": {},
   "outputs": [
    {
     "data": {
      "text/plain": [
       "<matplotlib.axes._subplots.AxesSubplot at 0x7f199ec4b490>"
      ]
     },
     "execution_count": 119,
     "metadata": {},
     "output_type": "execute_result"
    },
    {
     "data": {
      "image/png": "[encoded data removed]",
      "text/plain": [
       "<matplotlib.figure.Figure at 0x7f199e928450>"
      ]
     },
     "metadata": {
      "needs_background": "light"
     },
     "output_type": "display_data"
    }
   ],
   "source": [
    "S2_Yield = np.cumsum(np.log(S2_validation) - np.log(S2_validation.shift(1)) )\n",
    "pd.Series(S2_Yield*np.ones(len(S2_Yield))).plot()\n",
    "\n",
    "\n",
    "\n",
    "# np.cumsum(((np.log(P_index) - np.log(P_index.shift(1)) )*hold_list)).plot()\n",
    "# np.cumsum().plot()\n",
    "\n",
    "\n",
    "np.cumsum(((np.log(S2_validation) - np.log(S2_validation.shift(1)) )*hold_list)).plot()\n",
    "\n",
    "# np.cumsum(((np.log(S2_validation) - np.log(S2_validation.shift(1)) )*hold_list) - ((np.log(P_index) - np.log(P_index.shift(1)) )*hold_list)).plot()"
   ]
  },
  {
   "cell_type": "code",
   "execution_count": null,
   "metadata": {},
   "outputs": [],
   "source": []
  },
  {
   "cell_type": "code",
   "execution_count": null,
   "metadata": {},
   "outputs": [],
   "source": []
  },
  {
   "cell_type": "code",
   "execution_count": null,
   "metadata": {},
   "outputs": [],
   "source": []
  },
  {
   "cell_type": "code",
   "execution_count": null,
   "metadata": {},
   "outputs": [],
   "source": []
  },
  {
   "cell_type": "code",
   "execution_count": null,
   "metadata": {},
   "outputs": [],
   "source": []
  },
  {
   "cell_type": "code",
   "execution_count": null,
   "metadata": {},
   "outputs": [],
   "source": []
  },
  {
   "cell_type": "code",
   "execution_count": null,
   "metadata": {},
   "outputs": [],
   "source": []
  },
  {
   "cell_type": "code",
   "execution_count": 34,
   "metadata": {},
   "outputs": [
    {
     "ename": "NameError",
     "evalue": "name 'Q_infer' is not defined",
     "output_type": "error",
     "traceback": [
      "\u001b[0;31m\u001b[0m",
      "\u001b[0;31mNameError\u001b[0mTraceback (most recent call last)",
      "\u001b[0;32m<ipython-input-34-90210ae4508f>\u001b[0m in \u001b[0;36m<module>\u001b[0;34m()\u001b[0m\n\u001b[1;32m      2\u001b[0m \u001b[0max\u001b[0m \u001b[0;34m=\u001b[0m \u001b[0mfig\u001b[0m\u001b[0;34m.\u001b[0m\u001b[0madd_subplot\u001b[0m\u001b[0;34m(\u001b[0m\u001b[0;36m111\u001b[0m\u001b[0;34m)\u001b[0m\u001b[0;34m\u001b[0m\u001b[0m\n\u001b[1;32m      3\u001b[0m \u001b[0;34m\u001b[0m\u001b[0m\n\u001b[0;32m----> 4\u001b[0;31m \u001b[0max\u001b[0m\u001b[0;34m.\u001b[0m\u001b[0mplot\u001b[0m\u001b[0;34m(\u001b[0m\u001b[0mlist\u001b[0m\u001b[0;34m(\u001b[0m\u001b[0mQ_infer\u001b[0m\u001b[0;34m.\u001b[0m\u001b[0mindex\u001b[0m\u001b[0;34m)\u001b[0m\u001b[0;34m,\u001b[0m\u001b[0mlist\u001b[0m\u001b[0;34m(\u001b[0m\u001b[0mQ_infer\u001b[0m\u001b[0;34m.\u001b[0m\u001b[0mvalues\u001b[0m\u001b[0;34m)\u001b[0m\u001b[0;34m,\u001b[0m\u001b[0mlabel\u001b[0m \u001b[0;34m=\u001b[0m\u001b[0;34m'infer value'\u001b[0m\u001b[0;34m)\u001b[0m\u001b[0;34m\u001b[0m\u001b[0m\n\u001b[0m\u001b[1;32m      5\u001b[0m \u001b[0;34m\u001b[0m\u001b[0m\n\u001b[1;32m      6\u001b[0m \u001b[0max\u001b[0m\u001b[0;34m.\u001b[0m\u001b[0mplot\u001b[0m\u001b[0;34m(\u001b[0m\u001b[0mlist\u001b[0m\u001b[0;34m(\u001b[0m\u001b[0mS2_validation\u001b[0m\u001b[0;34m.\u001b[0m\u001b[0mindex\u001b[0m\u001b[0;34m)\u001b[0m\u001b[0;34m,\u001b[0m\u001b[0mlist\u001b[0m\u001b[0;34m(\u001b[0m\u001b[0mS2_validation\u001b[0m\u001b[0;34m.\u001b[0m\u001b[0mvalues\u001b[0m\u001b[0;34m)\u001b[0m\u001b[0;34m,\u001b[0m\u001b[0mlabel\u001b[0m \u001b[0;34m=\u001b[0m\u001b[0;34m'actual value'\u001b[0m\u001b[0;34m)\u001b[0m\u001b[0;34m\u001b[0m\u001b[0m\n",
      "\u001b[0;31mNameError\u001b[0m: name 'Q_infer' is not defined"
     ]
    },
    {
     "data": {
      "image/png": "[encoded data removed]",
      "text/plain": [
       "<matplotlib.figure.Figure at 0x7f19b0c2bd50>"
      ]
     },
     "metadata": {
      "needs_background": "light"
     },
     "output_type": "display_data"
    }
   ],
   "source": [
    "fig = plt.figure(figsize=(12, 10))\n",
    "ax = fig.add_subplot(111)\n",
    "\n",
    "ax.plot(list(Q_infer.index),list(Q_infer.values),label ='infer value')\n",
    "\n",
    "ax.plot(list(S2_validation.index),list(S2_validation.values),label ='actual value')\n",
    "\n",
    "plt.legend()\n",
    "plt.show()"
   ]
  },
  {
   "cell_type": "code",
   "execution_count": null,
   "metadata": {},
   "outputs": [],
   "source": [
    "fig = plt.figure(figsize=(12, 10))\n",
    "\n",
    "ax2 = fig.add_subplot(111)\n",
    "\n",
    "# ax1 = fig.add_subplot(111)\n",
    "\n",
    "# ax1.plot(list(Q_infer.index),list(Q_infer.values),label ='infer value')\n",
    "\n",
    "# ax1.plot(list(S2_validation.index),list(S2_validation.values),label ='actual value')\n",
    "\n",
    "# ax2=ax1.twinx() #twinx将ax1的X轴共用与ax2，这步很重要\n",
    "\n",
    "ax2.plot(list(gap.index),list(gap.values),label ='gap value')\n",
    "\n",
    "ax2.axhline(np.std(gap))\n",
    "ax2.axhline(-np.std(gap))\n",
    "ax2.axhline(np.mean(gap))\n",
    "\n",
    "plt.legend()\n",
    "plt.show()"
   ]
  },
  {
   "cell_type": "code",
   "execution_count": null,
   "metadata": {},
   "outputs": [],
   "source": [
    "# 画出推测标的的收益率曲线，仅做演示用\n",
    "S2_Yield = np.cumsum(np.log(S2_validation) - np.log(S2_validation.shift(1)) )\n",
    "\n",
    "S2_Yield.plot()"
   ]
  },
  {
   "cell_type": "code",
   "execution_count": null,
   "metadata": {},
   "outputs": [],
   "source": [
    "pd.Series(S2_Yield*np.ones(len(S2_Yield))).plot()\n",
    "np.cumsum(((np.log(S2_validation) - np.log(S2_validation.shift(1)) )*position_generate(buy_point_list,sell_point_list))).plot()"
   ]
  },
  {
   "cell_type": "markdown",
   "metadata": {},
   "source": [
    "# JOB DONE"
   ]
  },
  {
   "cell_type": "code",
   "execution_count": null,
   "metadata": {},
   "outputs": [],
   "source": []
  },
  {
   "cell_type": "code",
   "execution_count": null,
   "metadata": {},
   "outputs": [],
   "source": []
  }
 ],
 "metadata": {
  "kernelspec": {
   "display_name": "Python 2",
   "language": "python",
   "name": "python2"
  },
  "language_info": {
   "codemirror_mode": {
    "name": "ipython",
    "version": 2
   },
   "file_extension": ".py",
   "mimetype": "text/x-python",
   "name": "python",
   "nbconvert_exporter": "python",
   "pygments_lexer": "ipython2",
   "version": "2.7.10"
  }
 },
 "nbformat": 4,
 "nbformat_minor": 2
}
