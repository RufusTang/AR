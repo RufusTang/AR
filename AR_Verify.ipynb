{
 "cells": [
  {
   "cell_type": "code",
   "execution_count": 11,
   "metadata": {},
   "outputs": [],
   "source": [
    "import numpy as np\n",
    "import pandas as pd\n",
    "from scipy import stats\n",
    "\n",
    "\n",
    "import statsmodels.tsa.stattools as ts\n",
    "\n",
    "\n",
    "import statsmodels.formula.api as smf\n",
    "import statsmodels.tsa.api as smt\n",
    "import statsmodels.api as sm\n",
    "import scipy.stats as scs\n",
    "import statsmodels.stats as sms\n",
    "\n",
    "import matplotlib.pyplot as plt\n",
    "import matplotlib as mpl\n",
    "\n",
    "\n",
    "\n",
    "# 引入Kalman函数库\n",
    "from pykalman import KalmanFilter\n",
    "\n",
    "# 引入纯随机序列检测，只有是非纯随机序列，才能进行检测\n",
    "from statsmodels.stats.diagnostic import acorr_ljungbox\n",
    "\n",
    "# 引入时序分析模型进行模型匹配\n",
    "from statsmodels.tsa.arima_model import ARMA"
   ]
  },
  {
   "cell_type": "code",
   "execution_count": 12,
   "metadata": {},
   "outputs": [],
   "source": [
    "def position_generate(buy_list,sell_list):\n",
    "    # 生成混合序列\n",
    "    combine_list = np.array(buy_list) + np.array(sell_list)\n",
    "\n",
    "\n",
    "    # 生成状态序列\n",
    "    state_list = []\n",
    "    # 1、初始化第一个状态，如果是0则设置为-1，如果是-1则保持-1，如果是1则保持1\n",
    "    if combine_list[0] == 0:\n",
    "        state_list.append(-1)\n",
    "    else:\n",
    "        state_list.append(combine_list[0])\n",
    "\n",
    "    # 2、开始设置后续的状态，如果是0则设置为前一个状态，如果当前状态与前一个状态不同，则设置为当前状态\n",
    "    for state in combine_list[1:]:\n",
    "        if state == 0:\n",
    "            state_list.append(state_list[-1])\n",
    "        else:\n",
    "            state_list.append(state)\n",
    "\n",
    "    # 进行异或操作\n",
    "    xor_list = []\n",
    "    for i in range(len(state_list)):\n",
    "        if state_list[i] == np.array(pd.Series(state_list).shift(1).fillna(-1))[i]:\n",
    "            xor_list.append(0)\n",
    "        else:\n",
    "            xor_list.append(1)\n",
    "\n",
    "    # 生成新的买入、卖出数组\n",
    "    buy_point_new = np.array(buy_list) * xor_list\n",
    "    sell_point_new = np.array(sell_list) * xor_list\n",
    "\n",
    "    # 生成新的混合数组\n",
    "    combine_list_new = buy_point_new + sell_point_new\n",
    "\n",
    "    return np.cumsum(combine_list_new)"
   ]
  },
  {
   "cell_type": "markdown",
   "metadata": {},
   "source": [
    "设置股票配对、设置回测时间段\n"
   ]
  },
  {
   "cell_type": "code",
   "execution_count": 35,
   "metadata": {},
   "outputs": [],
   "source": [
    "# S1，P，自变量\n",
    "sec1 = '600108.XSHG'\n",
    "\n",
    "# S2，Q，因变量\n",
    "sec2 = '600598.XSHG'\n",
    "\n",
    "# 计算残差历史值的时间段\n",
    "end_date_history = '2018-9-30'\n",
    "ncount = 500\n",
    "\n",
    "# 回测的时间段起点、重点\n",
    "start_date = '2018-10-1'\n",
    "end_date = '2019-2-28'\n",
    "\n",
    "# 设置beta、alpha\n",
    "beta = 2.12787600046\n",
    "alpha = 1.95036402792\n",
    "\n",
    "# 根据beta、alpha计算出残差\n",
    "\n",
    "# 建设银行,P，自变量\n",
    "S1 = get_price(sec1, count =  ncount, end_date= end_date_history, frequency='1d', fields='close',fq = \"pre\")['close']\n",
    "\n",
    "# 农业银行,Q，因变量\n",
    "S2 = get_price(sec2, count =  ncount, end_date= end_date_history, frequency='1d', fields='close',fq = \"pre\")['close']\n",
    "\n",
    "# 计算残差\n",
    "res = S2 - beta* S1 - alpha\n",
    "\n",
    "res_diff = res - res.shift(1)\n",
    "res_diff = res_diff.fillna(0)\n",
    "\n",
    "std_deviation = np.std(res_diff)\n",
    "mean = np.mean(res_diff)"
   ]
  },
  {
   "cell_type": "markdown",
   "metadata": {},
   "source": [
    "根据上面的设置开始回测"
   ]
  },
  {
   "cell_type": "code",
   "execution_count": 36,
   "metadata": {},
   "outputs": [
    {
     "data": {
      "text/plain": [
       "<matplotlib.axes._subplots.AxesSubplot at 0x7f3a10cd6210>"
      ]
     },
     "execution_count": 36,
     "metadata": {},
     "output_type": "execute_result"
    },
    {
     "data": {
      "image/png": "[encoded data removed]",
      "text/plain": [
       "<matplotlib.figure.Figure at 0x7f3a10e54050>"
      ]
     },
     "metadata": {
      "needs_background": "light"
     },
     "output_type": "display_data"
    }
   ],
   "source": [
    "# P\n",
    "S1_validation = get_price(sec1, start_date =  start_date, end_date= end_date, frequency='1d', fields='close',fq = \"pre\")['close']\n",
    "\n",
    "# Q\n",
    "S2_validation = get_price(sec2, start_date =  start_date, end_date= end_date, frequency='1d', fields='close',fq = \"pre\")['close']\n",
    "\n",
    "\n",
    "# 根据观察到的价格计算出推测价格\n",
    "Q_infer = beta*(S1_validation - S1_validation.shift(1)) + S2_validation\n",
    "\n",
    "# 推测价格与观测价格之间的差异\n",
    "gap = S2_validation - Q_infer\n",
    "gap =  gap.fillna(0)\n",
    "\n",
    "\n",
    "# 序列处理代码实现\n",
    "buy_point_pd = gap < -0.5*std_deviation\n",
    "sell_point_pd = gap > 0.5*std_deviation\n",
    "\n",
    "buy_point_list = [int(d) for d in buy_point_pd ]\n",
    "sell_point_list = [-int(d) for d in sell_point_pd ]\n",
    "\n",
    "# 画图验证\n",
    "# 基准收益率\n",
    "S2_Yield = np.cumsum(np.log(S2_validation) - np.log(S2_validation.shift(1)) )\n",
    "pd.Series(S2_Yield*np.ones(len(S2_Yield))).plot()\n",
    "\n",
    "# 择时之后的收益率\n",
    "np.cumsum(((np.log(S2_validation) - np.log(S2_validation.shift(1)) )*position_generate(buy_point_list,sell_point_list))).plot()"
   ]
  },
  {
   "cell_type": "code",
   "execution_count": null,
   "metadata": {},
   "outputs": [],
   "source": []
  },
  {
   "cell_type": "code",
   "execution_count": null,
   "metadata": {},
   "outputs": [],
   "source": []
  }
 ],
 "metadata": {
  "kernelspec": {
   "display_name": "Python 2",
   "language": "python",
   "name": "python2"
  },
  "language_info": {
   "codemirror_mode": {
    "name": "ipython",
    "version": 2
   },
   "file_extension": ".py",
   "mimetype": "text/x-python",
   "name": "python",
   "nbconvert_exporter": "python",
   "pygments_lexer": "ipython2",
   "version": "2.7.10"
  }
 },
 "nbformat": 4,
 "nbformat_minor": 2
}
